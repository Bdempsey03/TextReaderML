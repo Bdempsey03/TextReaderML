{
 "cells": [
  {
   "cell_type": "code",
   "execution_count": 49,
   "id": "365861b5",
   "metadata": {},
   "outputs": [],
   "source": [
    "#Importing needed ML library"
   ]
  },
  {
   "cell_type": "code",
   "execution_count": 50,
   "id": "380ef6bd",
   "metadata": {},
   "outputs": [],
   "source": [
    "import keras"
   ]
  },
  {
   "cell_type": "code",
   "execution_count": 51,
   "id": "1262f7ab",
   "metadata": {},
   "outputs": [],
   "source": [
    "#mnist has the data, sequential is the model type, layers are the type of NN layers"
   ]
  },
  {
   "cell_type": "code",
   "execution_count": 52,
   "id": "25b3e99d",
   "metadata": {},
   "outputs": [],
   "source": [
    "from keras.datasets import mnist\n",
    "from keras.models import Sequential\n",
    "from keras.layers import Dense, Dropout, Flatten\n",
    "from keras.layers import Conv2D, MaxPooling2D\n",
    "from keras import backend as K"
   ]
  },
  {
   "cell_type": "code",
   "execution_count": 53,
   "id": "4e012cfc",
   "metadata": {},
   "outputs": [],
   "source": [
    "#define a tuple for training and testing data. Both are the dataset of handwritten digits"
   ]
  },
  {
   "cell_type": "code",
   "execution_count": 54,
   "id": "3065b2c1",
   "metadata": {},
   "outputs": [
    {
     "name": "stdout",
     "output_type": "stream",
     "text": [
      "(60000, 28, 28) (60000,)\n"
     ]
    }
   ],
   "source": [
    "(x_train, y_train), (x_test, y_test) = mnist.load_data()\n",
    "\n",
    "print(x_train.shape, y_train.shape) #show size of dataset"
   ]
  },
  {
   "cell_type": "code",
   "execution_count": null,
   "id": "45d3ed16",
   "metadata": {},
   "outputs": [],
   "source": []
  },
  {
   "cell_type": "code",
   "execution_count": 55,
   "id": "511d2690",
   "metadata": {},
   "outputs": [],
   "source": [
    "num_classes = 10\n",
    "x_train = x_train.reshape(x_train.shape[0], 28, 28, 1)#changing the size to include one extra dimension of size 1?\n",
    "x_test = x_test.reshape(x_test.shape[0], 28, 28, 1)\n",
    "input_shape = (28, 28, 1)#defining 3-tuple as 28 by 28 by 1"
   ]
  },
  {
   "cell_type": "code",
   "execution_count": 56,
   "id": "66e2ce58",
   "metadata": {},
   "outputs": [
    {
     "name": "stdout",
     "output_type": "stream",
     "text": [
      "x_train shape: (60000, 28, 28, 1)\n",
      "60000 train samples\n",
      "10000 test samples\n"
     ]
    }
   ],
   "source": [
    "# convert class vectors to binary class matrices\n",
    "y_train = keras.utils.to_categorical(y_train, num_classes) #y_train is the x_train put through model\n",
    "y_test = keras.utils.to_categorical(y_test, num_classes) #y_test is x_test put through model\n",
    "x_train = x_train.astype('float32') #casting to float\n",
    "x_test = x_test.astype('float32') #casting to float\n",
    "x_train /= 255 #dividing all values in x_train by 255?\n",
    "x_test /= 255\n",
    "print('x_train shape:', x_train.shape)\n",
    "print(x_train.shape[0], 'train samples')\n",
    "print(x_test.shape[0], 'test samples')"
   ]
  },
  {
   "cell_type": "code",
   "execution_count": 57,
   "id": "a45ce681",
   "metadata": {},
   "outputs": [],
   "source": [
    "batch_size = 128\n",
    "epochs = 3\n",
    "# #This is going to be our model. It is a sequential NN\n",
    "model = Sequential() \n",
    "model.add(Conv2D(32, kernel_size=(3, 3),activation='relu',input_shape=input_shape))\n",
    "model.add(Conv2D(64, (3, 3), activation='relu'))\n",
    "model.add(MaxPooling2D(pool_size=(2, 2)))\n",
    "model.add(Dropout(0.25))\n",
    "model.add(Flatten())\n",
    "model.add(Dense(256, activation='relu'))\n",
    "model.add(Dropout(0.5))\n",
    "model.add(Dense(num_classes, activation='softmax'))\n",
    "model.compile(loss=keras.losses.categorical_crossentropy,optimizer=keras.optimizers.Adam(),metrics=['accuracy'])\n",
    "# model=Sequential()\n",
    "# model.add(Dense(512, activation='relu', input_shape=(28 * 28,)))\n",
    "# model.add(Dense(10, activation='softmax'))\n",
    "# model.compile(loss=keras.losses.categorical_crossentropy,optimizer='adam',metrics=['accuracy'])\n"
   ]
  },
  {
   "cell_type": "code",
   "execution_count": 58,
   "id": "3f01ab6b",
   "metadata": {},
   "outputs": [
    {
     "name": "stdout",
     "output_type": "stream",
     "text": [
      "Epoch 1/3\n",
      "469/469 [==============================] - 53s 107ms/step - loss: 0.1841 - accuracy: 0.9441 - val_loss: 0.0445 - val_accuracy: 0.9859\n",
      "Epoch 2/3\n",
      "469/469 [==============================] - 50s 107ms/step - loss: 0.0619 - accuracy: 0.9809 - val_loss: 0.0355 - val_accuracy: 0.9883\n",
      "Epoch 3/3\n",
      "469/469 [==============================] - 51s 109ms/step - loss: 0.0449 - accuracy: 0.9858 - val_loss: 0.0304 - val_accuracy: 0.9905\n",
      "The model has successfully trained\n",
      "Saving the model as mnist.h5\n"
     ]
    }
   ],
   "source": [
    "hist = model.fit(x_train, y_train,batch_size=batch_size,epochs=epochs,verbose=1,validation_data=(x_test, y_test))#train model\n",
    "print(\"The model has successfully trained\")\n",
    "model.save('mnist.h5') #saving file\n",
    "print(\"Saving the model as mnist.h5\")"
   ]
  },
  {
   "cell_type": "code",
   "execution_count": 59,
   "id": "7d9db100",
   "metadata": {},
   "outputs": [
    {
     "name": "stdout",
     "output_type": "stream",
     "text": [
      "Test loss: 0.030430709943175316\n",
      "Test accuracy: 0.9904999732971191\n"
     ]
    }
   ],
   "source": [
    "score = model.evaluate(x_test, y_test, verbose=0)\n",
    "print('Test loss:', score[0])\n",
    "print('Test accuracy:', score[1])"
   ]
  },
  {
   "cell_type": "code",
   "execution_count": 60,
   "id": "e948c92c",
   "metadata": {},
   "outputs": [
    {
     "name": "stdout",
     "output_type": "stream",
     "text": [
      "1/1 [==============================] - 2s 2s/step\n",
      "5\n",
      "0.945367\n",
      "1/1 [==============================] - 2s 2s/step\n",
      "2\n",
      "0.99967146\n",
      "1/1 [==============================] - 2s 2s/step\n",
      "6\n",
      "0.9999987\n"
     ]
    }
   ],
   "source": [
    "from keras.models import load_model\n",
    "from PIL import ImageGrab, ImageOps, Image\n",
    "import numpy as np\n",
    "\n",
    "model = load_model('mnist.h5')\n",
    "img = Image.open('five.PNG')\n",
    "img.show()\n",
    "img = img.resize((28,28))\n",
    "img = img.convert('L')\n",
    "img = np.array(img)\n",
    "img = img.reshape(1,28,28,1)\n",
    "img = img/255.0\n",
    "res = model.predict([img])[0]\n",
    "print(np.argmax(res))\n",
    "print(max(res))\n",
    "\n",
    "model = load_model('mnist.h5')\n",
    "img = Image.open('two.png')\n",
    "img.show()\n",
    "img = img.resize((28,28))\n",
    "img = img.convert('L')\n",
    "img = np.array(img)\n",
    "img = img.reshape(1,28,28,1)\n",
    "img = img/255.0\n",
    "res = model.predict([img])[0]\n",
    "print(np.argmax(res))\n",
    "print(max(res))\n",
    "\n",
    "model = load_model('mnist.h5')\n",
    "img = Image.open('test.PNG')\n",
    "img.show()\n",
    "img = img.resize((28,28))\n",
    "img = img.convert('L')\n",
    "img = np.array(img)\n",
    "img = img.reshape(1,28,28,1)\n",
    "img = img/255.0\n",
    "res = model.predict([img])[0]\n",
    "print(np.argmax(res))\n",
    "print(max(res))\n"
   ]
  },
  {
   "cell_type": "code",
   "execution_count": null,
   "id": "2beaef2d",
   "metadata": {},
   "outputs": [
    {
     "name": "stdout",
     "output_type": "stream",
     "text": [
      "(0, 25, 304, 329)\n",
      "1/1 [==============================] - 2s 2s/step\n",
      "(0, 25, 304, 329)\n",
      "1/1 [==============================] - 2s 2s/step\n"
     ]
    }
   ],
   "source": [
    "from keras.models import load_model\n",
    "from tkinter import *\n",
    "import tkinter as tk\n",
    "import win32gui\n",
    "from PIL import ImageGrab, ImageOps\n",
    "import numpy as np\n",
    "model = load_model('mnist.h5')\n",
    "def predict_digit(img):\n",
    "    #resize image to 28×28 pixels\n",
    "    img = img.resize((28,28))\n",
    "    #convert rgb to grayscale\n",
    "    img = img.convert('L')\n",
    "    #invert colors so background is black, number is white\n",
    "    img = np.array(img)\n",
    "    #reshaping to support our model input and normalizing\n",
    "    img = img.reshape(1,28,28,1)\n",
    "    img = img/255.0\n",
    "    #predicting the class\n",
    "    res = model.predict([img])[0]\n",
    "    return np.argmax(res), max(res)\n",
    "class App(tk.Tk):\n",
    "    def __init__(self):\n",
    "        tk.Tk.__init__(self)\n",
    "        self.x = self.y = 0\n",
    "        global correct\n",
    "        global total\n",
    "        correct  = 1\n",
    "        total = 1\n",
    "        # Creating elements\n",
    "        self.canvas = tk.Canvas(self, width=300, height=300, bg = \"white\", cursor=\"cross\")      \n",
    "        self.label = tk.Label(self, text=\"Thinking..\", font=(\"Helvetica\", 48))\n",
    "#         self.label1 = tk.Label(self, text=correct, font=(\"Helvetica\", 48))\n",
    "        self.classify_btn = tk.Button(self, text = \"Recognise\", command =         self.classify_handwriting) \n",
    "        self.correct_btn = tk.Button(self, text = \"Correct\", command = self.add_correct)\n",
    "        self.button_clear = tk.Button(self, text = \"Clear\", command = self.clear_all)\n",
    "        # Grid structure\n",
    "        self.canvas.grid(row=0, column=0, pady=2, sticky=W, )\n",
    "        self.label.grid(row=0, column=1,pady=2, padx=2)\n",
    "#         self.label1.grid(row=0, column=2,pady=2, padx=2)\n",
    "\n",
    "        self.classify_btn.grid(row=1, column=1, pady=2, padx=2)\n",
    "        self.button_clear.grid(row=1, column=0, pady=2)\n",
    "        self.correct_btn.grid(row=1, column=2, pady=2)\n",
    "#         self.canvas.bind(\"<Motion>\", self.start_pos)\n",
    "        self.canvas.bind(\"<B1-Motion>\", self.draw_lines)\n",
    "    def add_correct(self):\n",
    "        global correct\n",
    "        correct = correct + 1\n",
    "        print(correct)\n",
    "\n",
    "    def clear_all(self):\n",
    "        self.canvas.delete(\"all\")\n",
    "    def classify_handwriting(self):\n",
    "        HWND = self.canvas.winfo_id() # get the handle of the canvas\n",
    "        rect = win32gui.GetWindowRect(HWND) # get the coordinate of the canvas\n",
    "\n",
    "#         rect[0] = win32gui.GetWindowRect(HWND)[0]+10 # get the coordinate of the canvas\n",
    "#         rect[1] = win32gui.GetWindowRect(HWND)[1]+10 # get the coordinate of the canvas\n",
    "#         rect[2] = win32gui.GetWindowRect(HWND)[2]+10 # get the coordinate of the canvas\n",
    "#         rect[3] = win32gui.GetWindowRect(HWND)[3]+10 # get the coordinate of the canvas\n",
    "\n",
    "        im = ImageGrab.grab(rect)\n",
    "        im = ImageOps.invert(im)\n",
    "        print(rect)\n",
    "        digit, acc = predict_digit(im)\n",
    "        self.label.configure(text= str(digit)+', '+ str(int(acc*100))+'%')\n",
    "    def draw_lines(self, event):\n",
    "        self.x = event.x\n",
    "        self.y = event.y\n",
    "        r=6\n",
    "        self.canvas.create_oval(self.x-r, self.y-r, self.x + r, self.y + r, fill='black')\n",
    "app = App()\n",
    "mainloop()"
   ]
  },
  {
   "cell_type": "code",
   "execution_count": null,
   "id": "59185d6c",
   "metadata": {},
   "outputs": [],
   "source": []
  },
  {
   "cell_type": "code",
   "execution_count": null,
   "id": "8de3238a",
   "metadata": {},
   "outputs": [],
   "source": []
  },
  {
   "cell_type": "code",
   "execution_count": null,
   "id": "53147003",
   "metadata": {},
   "outputs": [],
   "source": []
  },
  {
   "cell_type": "code",
   "execution_count": null,
   "id": "5a190dbc",
   "metadata": {},
   "outputs": [],
   "source": []
  }
 ],
 "metadata": {
  "kernelspec": {
   "display_name": "Python 3 (ipykernel)",
   "language": "python",
   "name": "python3"
  },
  "language_info": {
   "codemirror_mode": {
    "name": "ipython",
    "version": 3
   },
   "file_extension": ".py",
   "mimetype": "text/x-python",
   "name": "python",
   "nbconvert_exporter": "python",
   "pygments_lexer": "ipython3",
   "version": "3.10.11"
  }
 },
 "nbformat": 4,
 "nbformat_minor": 5
}
